{
 "cells": [
  {
   "cell_type": "code",
   "execution_count": null,
   "metadata": {},
   "outputs": [],
   "source": [
    "import re\n",
    "def phoneno(no):\n",
    "    pattern=\"^[+][9][1][6-9][0-9]{9}$|^[6-9][0-9]{9}$|^[0][6-9][0-9]{9}$\"\n",
    "    if re.match(pattern,str(no)):\n",
    "        return 1\n",
    "    else:\n",
    "        return 0\n",
    "def emailval(n):\n",
    "    pattern=\"^([0-9]|[a-z]|[A-Z])([0-9]|[a-z]|[A-Z]|[_]){6,14}([0-9]|[a-z]|[A-Z])@([a-z]|[A-Z]){1,10}[.][a-z]{2,4}$\"\n",
    "    if re.match(pattern,str(n)):\n",
    "        return 1\n",
    "    else:\n",
    "        return 0  \n",
    "def searchcontact(name,file):\n",
    "    s=csvtolist(file)\n",
    "    for i in s:\n",
    "        if i[0]==name:\n",
    "            return 1\n",
    "    return 0\n",
    "searchcontact(\"nikki\",\"contacts.txt\")\n",
    "def addcontact(name,no,n,file):\n",
    "    if searchcontact(name,file)==0:\n",
    "        if phoneno(no)==1:\n",
    "            if emailval(n)==1:\n",
    "                with open(file,'a') as f:\n",
    "                    f.write(\"\\n\"+name+\",\"+no+\",\"+n)\n",
    "                    print(\"contact added successfully\")\n",
    "    \n",
    "addcontact(\"nikki\",\"9867937966\",\"jhhfgsbgaksfdh@gmail.com\",\"contacts.txt\")        \n",
    "            "
   ]
  }
 ],
 "metadata": {
  "kernelspec": {
   "display_name": "Python 3",
   "language": "python",
   "name": "python3"
  },
  "language_info": {
   "codemirror_mode": {
    "name": "ipython",
    "version": 3
   },
   "file_extension": ".py",
   "mimetype": "text/x-python",
   "name": "python",
   "nbconvert_exporter": "python",
   "pygments_lexer": "ipython3",
   "version": "3.7.3"
  }
 },
 "nbformat": 4,
 "nbformat_minor": 2
}
