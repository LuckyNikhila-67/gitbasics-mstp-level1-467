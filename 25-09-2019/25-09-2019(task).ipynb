{
 "cells": [
  {
   "cell_type": "markdown",
   "metadata": {},
   "source": [
    "#### 1..program to print the all the even no in range inclusive"
   ]
  },
  {
   "cell_type": "code",
   "execution_count": 3,
   "metadata": {},
   "outputs": [
    {
     "name": "stdout",
     "output_type": "stream",
     "text": [
      "6\n",
      "2 4 6 "
     ]
    }
   ],
   "source": [
    "def evenrange(a):\n",
    "    for i in range(1,a+1):\n",
    "        if(i%2==0):\n",
    "            print(i,end=\" \")\n",
    "a=int(input())\n",
    "evenrange(a)"
   ]
  },
  {
   "cell_type": "markdown",
   "metadata": {},
   "source": [
    "####### 2..Function to find the average of cubes of all even numbers in a \n",
    "given range(lb, ub) inclusive"
   ]
  },
  {
   "cell_type": "code",
   "execution_count": 4,
   "metadata": {},
   "outputs": [
    {
     "name": "stdout",
     "output_type": "stream",
     "text": [
      "4\n",
      "32.0\n"
     ]
    }
   ],
   "source": [
    "def cubesavg(j):\n",
    "    count=0\n",
    "    for i in range(1,j+1):\n",
    "        if(i%2==0):\n",
    "            cube=i**3\n",
    "            count=count+1\n",
    "            avg=cube/count\n",
    "    print(avg)\n",
    "j=int(input())\n",
    "cubesavg(j)"
   ]
  },
  {
   "cell_type": "markdown",
   "metadata": {},
   "source": [
    "########## 3..program to print all the sum of perfect numbers in a given range"
   ]
  },
  {
   "cell_type": "code",
   "execution_count": 12,
   "metadata": {},
   "outputs": [
    {
     "name": "stdout",
     "output_type": "stream",
     "text": [
      "1\n",
      "30\n"
     ]
    },
    {
     "ename": "NameError",
     "evalue": "name 'perfect' is not defined",
     "output_type": "error",
     "traceback": [
      "\u001b[1;31m---------------------------------------------------------------------------\u001b[0m",
      "\u001b[1;31mNameError\u001b[0m                                 Traceback (most recent call last)",
      "\u001b[1;32m<ipython-input-12-c7c8bf6a777a>\u001b[0m in \u001b[0;36m<module>\u001b[1;34m\u001b[0m\n\u001b[0;32m     12\u001b[0m \u001b[0ms1\u001b[0m\u001b[1;33m=\u001b[0m\u001b[1;36m0\u001b[0m\u001b[1;33m\u001b[0m\u001b[1;33m\u001b[0m\u001b[0m\n\u001b[0;32m     13\u001b[0m \u001b[1;32mfor\u001b[0m \u001b[0mj\u001b[0m \u001b[1;32min\u001b[0m \u001b[0mrange\u001b[0m\u001b[1;33m(\u001b[0m\u001b[0mlb\u001b[0m\u001b[1;33m,\u001b[0m\u001b[0mub\u001b[0m\u001b[1;33m+\u001b[0m\u001b[1;36m1\u001b[0m\u001b[1;33m)\u001b[0m\u001b[1;33m:\u001b[0m\u001b[1;33m\u001b[0m\u001b[1;33m\u001b[0m\u001b[0m\n\u001b[1;32m---> 14\u001b[1;33m     \u001b[1;32mif\u001b[0m \u001b[0mperfect\u001b[0m\u001b[1;33m(\u001b[0m\u001b[0mj\u001b[0m\u001b[1;33m)\u001b[0m\u001b[1;33m==\u001b[0m\u001b[1;36m1\u001b[0m\u001b[1;33m:\u001b[0m\u001b[1;33m\u001b[0m\u001b[1;33m\u001b[0m\u001b[0m\n\u001b[0m\u001b[0;32m     15\u001b[0m         \u001b[0ms1\u001b[0m\u001b[1;33m=\u001b[0m\u001b[0ms1\u001b[0m\u001b[1;33m+\u001b[0m\u001b[0mj\u001b[0m\u001b[1;33m\u001b[0m\u001b[1;33m\u001b[0m\u001b[0m\n\u001b[0;32m     16\u001b[0m \u001b[0mprint\u001b[0m\u001b[1;33m(\u001b[0m\u001b[0ms1\u001b[0m\u001b[1;33m)\u001b[0m\u001b[1;33m\u001b[0m\u001b[1;33m\u001b[0m\u001b[0m\n",
      "\u001b[1;31mNameError\u001b[0m: name 'perfect' is not defined"
     ]
    }
   ],
   "source": [
    "def perfectrange(n):\n",
    "    s=0\n",
    "    for i in range(1,n):\n",
    "        if(n%i==0):\n",
    "            s=s+i\n",
    "    if(s==n):\n",
    "        return 1\n",
    "    else:\n",
    "        return 0\n",
    "lb=int(input())\n",
    "ub=int(input())\n",
    "s1=0\n",
    "for i in range(lb,ub+1):\n",
    "    if perfect(i)==1:\n",
    "        s1=s1+i\n",
    "print(s1)"
   ]
  },
  {
   "cell_type": "markdown",
   "metadata": {},
   "source": [
    "######### 4..Function to generate N odd armstrong number"
   ]
  },
  {
   "cell_type": "code",
   "execution_count": 9,
   "metadata": {},
   "outputs": [
    {
     "name": "stdout",
     "output_type": "stream",
     "text": [
      "153\n",
      "armstrong\n",
      "odd arm\n"
     ]
    }
   ],
   "source": [
    "def armstrong(h):\n",
    "    sum=0\n",
    "    y=h\n",
    "    for i in range(1,h+1):\n",
    "        a=h%10\n",
    "        sum=sum+a**3\n",
    "        h=h//10\n",
    "    if(sum==y):\n",
    "        print(\"armstrong\")\n",
    "        if(sum%2!=0):\n",
    "            print(\"odd arm\")\n",
    "h=int(input())\n",
    "armstrong(h)"
   ]
  },
  {
   "cell_type": "code",
   "execution_count": null,
   "metadata": {},
   "outputs": [],
   "source": []
  }
 ],
 "metadata": {
  "kernelspec": {
   "display_name": "Python 3",
   "language": "python",
   "name": "python3"
  },
  "language_info": {
   "codemirror_mode": {
    "name": "ipython",
    "version": 3
   },
   "file_extension": ".py",
   "mimetype": "text/x-python",
   "name": "python",
   "nbconvert_exporter": "python",
   "pygments_lexer": "ipython3",
   "version": "3.7.3"
  }
 },
 "nbformat": 4,
 "nbformat_minor": 2
}
