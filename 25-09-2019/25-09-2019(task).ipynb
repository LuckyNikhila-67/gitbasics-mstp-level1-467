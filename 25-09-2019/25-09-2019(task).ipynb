{
 "cells": [
  {
   "cell_type": "markdown",
   "metadata": {},
   "source": [
    "#### 1..program to print the all the even no in range inclusive"
   ]
  },
  {
   "cell_type": "code",
   "execution_count": 3,
   "metadata": {},
   "outputs": [
    {
     "name": "stdout",
     "output_type": "stream",
     "text": [
      "6\n",
      "2 4 6 "
     ]
    }
   ],
   "source": [
    "def evenrange(a):\n",
    "    for i in range(1,a+1):\n",
    "        if(i%2==0):\n",
    "            print(i,end=\" \")\n",
    "a=int(input())\n",
    "evenrange(a)"
   ]
  },
  {
   "cell_type": "markdown",
   "metadata": {},
   "source": [
    "####### 2..Function to find the average of cubes of all even numbers in a \n",
    "given range(lb, ub) inclusive"
   ]
  },
  {
   "cell_type": "code",
   "execution_count": 4,
   "metadata": {},
   "outputs": [
    {
     "name": "stdout",
     "output_type": "stream",
     "text": [
      "4\n",
      "32.0\n"
     ]
    }
   ],
   "source": [
    "def cubesavg(j):\n",
    "    count=0\n",
    "    for i in range(1,j+1):\n",
    "        if(i%2==0):\n",
    "            cube=i**3\n",
    "            count=count+1\n",
    "            avg=cube/count\n",
    "    print(avg)\n",
    "j=int(input())\n",
    "cubesavg(j)"
   ]
  },
  {
   "cell_type": "markdown",
   "metadata": {},
   "source": [
    "########## 3..program to print all the sum of perfect numbers in a given range"
   ]
  },
  {
   "cell_type": "code",
   "execution_count": 3,
   "metadata": {},
   "outputs": [
    {
     "name": "stdout",
     "output_type": "stream",
     "text": [
      "100\n"
     ]
    }
   ],
   "source": [
    "def perfectrange(u):\n",
    "    s=0\n",
    "    for i in range(1,u+1):\n",
    "        if(u%i==0):\n",
    "            s=s+i\n",
    "        if(s==u):\n",
    "            print(u)        \n",
    "u=int(input())\n",
    "perfectrange(u)"
   ]
  },
  {
   "cell_type": "markdown",
   "metadata": {},
   "source": [
    "######### 4..Function to generate N odd armstrong number"
   ]
  },
  {
   "cell_type": "code",
   "execution_count": 9,
   "metadata": {},
   "outputs": [
    {
     "name": "stdout",
     "output_type": "stream",
     "text": [
      "153\n",
      "armstrong\n",
      "odd arm\n"
     ]
    }
   ],
   "source": [
    "def armstrong(h):\n",
    "    sum=0\n",
    "    y=h\n",
    "    for i in range(1,h+1):\n",
    "        a=h%10\n",
    "        sum=sum+a**3\n",
    "        h=h//10\n",
    "    if(sum==y):\n",
    "        print(\"armstrong\")\n",
    "        if(sum%2!=0):\n",
    "            print(\"odd arm\")\n",
    "h=int(input())\n",
    "armstrong(h)"
   ]
  },
  {
   "cell_type": "code",
   "execution_count": null,
   "metadata": {},
   "outputs": [],
   "source": []
  }
 ],
 "metadata": {
  "kernelspec": {
   "display_name": "Python 3",
   "language": "python",
   "name": "python3"
  },
  "language_info": {
   "codemirror_mode": {
    "name": "ipython",
    "version": 3
   },
   "file_extension": ".py",
   "mimetype": "text/x-python",
   "name": "python",
   "nbconvert_exporter": "python",
   "pygments_lexer": "ipython3",
   "version": "3.7.3"
  }
 },
 "nbformat": 4,
 "nbformat_minor": 2
}
