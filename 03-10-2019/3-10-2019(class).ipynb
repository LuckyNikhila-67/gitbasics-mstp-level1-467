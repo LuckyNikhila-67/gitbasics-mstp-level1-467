{
 "cells": [
  {
   "cell_type": "markdown",
   "metadata": {},
   "source": [
    "#### File handling in python"
   ]
  },
  {
   "cell_type": "code",
   "execution_count": 1,
   "metadata": {},
   "outputs": [],
   "source": [
    "## read---r\n",
    "## write--w\n",
    "## append---a\n",
    "## read&write----r+\n",
    "## write&read----w+\n",
    "## append&read---a+\n",
    "## exclusive write ----x"
   ]
  },
  {
   "cell_type": "code",
   "execution_count": 2,
   "metadata": {},
   "outputs": [],
   "source": [
    "## file opening\n",
    "##file=open(\"sample.txt\",\"mode\")"
   ]
  },
  {
   "cell_type": "code",
   "execution_count": 9,
   "metadata": {},
   "outputs": [],
   "source": [
    "## Create a file and add some content \n",
    "f=open(\"data.txt\",\"w\")\n",
    "f.write(\"hi im nikhila and my roll no is 467\")\n",
    "f.write(\"\\nim pursuing btech in kvsw\\n\")\n",
    "f.close()\n"
   ]
  },
  {
   "cell_type": "code",
   "execution_count": 10,
   "metadata": {},
   "outputs": [
    {
     "name": "stdout",
     "output_type": "stream",
     "text": [
      "hi im nikhila and my roll no is 467\n",
      "im pursuing btech in kvsw\n",
      "\n"
     ]
    }
   ],
   "source": [
    "### to print the content of a file\n",
    "file=open(\"data.txt\",\"r\")\n",
    "f1=file.read()\n",
    "print(f1)\n",
    "file.close()\n"
   ]
  },
  {
   "cell_type": "code",
   "execution_count": 17,
   "metadata": {},
   "outputs": [
    {
     "name": "stdout",
     "output_type": "stream",
     "text": [
      "hi im nikhila and my roll no is 467\n",
      "im pursuing btech in kvsw\n",
      "\n"
     ]
    }
   ],
   "source": [
    "def printing(file):\n",
    "    file=open(\"data.txt\",\"r\")\n",
    "    f1=file.read()\n",
    "    print(f1)\n",
    "    \n",
    "printing(file)    "
   ]
  },
  {
   "cell_type": "code",
   "execution_count": 26,
   "metadata": {},
   "outputs": [],
   "source": [
    "def writemode(filepath):\n",
    "    filepath=open(\"data.txt\",\"w\")\n",
    "    filepath.write(\"mstp apssdc\\n\") # if we use this it will delete the previous data and restores the new data in a file\n",
    "    filepath.close()\n",
    "filepath=\"data.txt\"   \n",
    "writemode(filepath)    "
   ]
  },
  {
   "cell_type": "code",
   "execution_count": 28,
   "metadata": {},
   "outputs": [],
   "source": [
    "def appendmode(filepath):\n",
    "    filepath=open(\"data.txt\",\"a\")\n",
    "    filepath.write(\"multi skill programming\\n\")### to add the data without disturbing the previous data\n",
    "    filepath.close()\n",
    "filepath=\"data.txt\"\n",
    "appendmode(filepath)"
   ]
  },
  {
   "cell_type": "code",
   "execution_count": 47,
   "metadata": {},
   "outputs": [
    {
     "name": "stdout",
     "output_type": "stream",
     "text": [
      "mstp apssdc\n",
      "multi skill programmingmulti skill programming\n",
      "\n"
     ]
    }
   ],
   "source": [
    "def reamode(filepath):\n",
    "    filepath=open(\"data.txt\",\"r\")\n",
    "    f2=filepath.read()\n",
    "    print(f2)\n",
    "filepath=\"data.txt\"    \n",
    "reamode(filepath)"
   ]
  },
  {
   "cell_type": "code",
   "execution_count": 44,
   "metadata": {},
   "outputs": [
    {
     "name": "stdout",
     "output_type": "stream",
     "text": [
      "mstp apssdc\n",
      "\n"
     ]
    }
   ],
   "source": [
    "file=open(\"data.txt\",\"r\")\n",
    "z=file.readline()\n",
    "print(z)"
   ]
  },
  {
   "cell_type": "code",
   "execution_count": 45,
   "metadata": {},
   "outputs": [
    {
     "name": "stdout",
     "output_type": "stream",
     "text": [
      "['mstp apssdc\\n', 'multi skill programmingmulti skill programming\\n']\n"
     ]
    }
   ],
   "source": [
    "file=open(\"data.txt\",\"r\")\n",
    "z=file.readlines()\n",
    "print(z)"
   ]
  },
  {
   "cell_type": "code",
   "execution_count": 52,
   "metadata": {},
   "outputs": [
    {
     "name": "stdout",
     "output_type": "stream",
     "text": [
      "mstp apssdc\n",
      " multi skill programmingmulti skill programming\n",
      " "
     ]
    }
   ],
   "source": [
    "## Acessing all content line by line\n",
    "def get_elements(file):\n",
    "    file=open(\"data.txt\",\"r\")\n",
    "    z=file.readlines()\n",
    "    for i in z:\n",
    "        print(i,end=\" \")\n",
    "\n",
    "get_elements(file)"
   ]
  },
  {
   "cell_type": "code",
   "execution_count": 53,
   "metadata": {},
   "outputs": [],
   "source": [
    "# Lines count\n",
    "# characters count\n",
    "# words count\n",
    "# file length"
   ]
  },
  {
   "cell_type": "code",
   "execution_count": 81,
   "metadata": {},
   "outputs": [],
   "source": [
    "### f.read------it accepts the total data into one string in the list\n",
    "### f.readlines------it accepts the each lines as a string in the list"
   ]
  },
  {
   "cell_type": "code",
   "execution_count": 78,
   "metadata": {},
   "outputs": [
    {
     "name": "stdout",
     "output_type": "stream",
     "text": [
      "2\n"
     ]
    }
   ],
   "source": [
    "def line_count(file):\n",
    "    count=0\n",
    "    with open(\"data.txt\",\"r\") as file:\n",
    "        z=file.readlines()\n",
    "        for i in z:\n",
    "            count=count+1\n",
    "        print(count)\n",
    "file=\"data.txt\"    \n",
    "line_count(file)    \n",
    "    \n",
    "    \n",
    "    "
   ]
  },
  {
   "cell_type": "code",
   "execution_count": 76,
   "metadata": {},
   "outputs": [
    {
     "name": "stdout",
     "output_type": "stream",
     "text": [
      "59\n"
     ]
    }
   ],
   "source": [
    "def char_count(file):\n",
    "    count=0\n",
    "    with open(\"data.txt\",\"r\") as file:\n",
    "        z=file.read()\n",
    "        for i in z:\n",
    "            count=count+1\n",
    "    print(count)\n",
    "file=\"data.txt\"\n",
    "char_count(file)"
   ]
  },
  {
   "cell_type": "code",
   "execution_count": 79,
   "metadata": {},
   "outputs": [
    {
     "name": "stdout",
     "output_type": "stream",
     "text": [
      "['mstp', 'apssdc', 'multi', 'skill', 'programmingmulti', 'skill', 'programming']\n",
      "7\n"
     ]
    }
   ],
   "source": [
    "def words_count(file):\n",
    "    count=0\n",
    "    with open(\"data.txt\",\"r\") as file:\n",
    "        z=file.read()\n",
    "        y=z.split()\n",
    "        print(y)\n",
    "        print(len(y))\n",
    "words_count(\"data.txt\")        \n",
    "        \n",
    "        \n",
    "        "
   ]
  },
  {
   "cell_type": "code",
   "execution_count": 80,
   "metadata": {},
   "outputs": [
    {
     "name": "stdout",
     "output_type": "stream",
     "text": [
      "59\n"
     ]
    }
   ],
   "source": [
    "def file_length(file):\n",
    "    count=0\n",
    "    with open(\"data.txt\",\"r\") as file:\n",
    "        z=file.read()\n",
    "        s=len(z)\n",
    "        print(s)\n",
    "file_length(\"data.txt\")        \n",
    "        "
   ]
  },
  {
   "cell_type": "code",
   "execution_count": null,
   "metadata": {},
   "outputs": [],
   "source": []
  },
  {
   "cell_type": "code",
   "execution_count": null,
   "metadata": {},
   "outputs": [],
   "source": []
  }
 ],
 "metadata": {
  "kernelspec": {
   "display_name": "Python 3",
   "language": "python",
   "name": "python3"
  },
  "language_info": {
   "codemirror_mode": {
    "name": "ipython",
    "version": 3
   },
   "file_extension": ".py",
   "mimetype": "text/x-python",
   "name": "python",
   "nbconvert_exporter": "python",
   "pygments_lexer": "ipython3",
   "version": "3.7.3"
  }
 },
 "nbformat": 4,
 "nbformat_minor": 2
}
