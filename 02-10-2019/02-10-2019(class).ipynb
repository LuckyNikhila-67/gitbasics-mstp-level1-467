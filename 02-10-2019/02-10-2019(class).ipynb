{
 "cells": [
  {
   "cell_type": "markdown",
   "metadata": {},
   "source": [
    "### Regular Expressions"
   ]
  },
  {
   "cell_type": "code",
   "execution_count": 2,
   "metadata": {},
   "outputs": [],
   "source": [
    "####### 1.abc---that matche the che character sequence anywhere in the string\n",
    "####### 2.^-------begining of the string\n",
    "####### 3.$-------ending of the string\n",
    "####### 4.|-------or operator is used for either a or b \n",
    "####### 5.{a,b}-----it gives the range of the string\n",
    "####### 6.{a,}-------it tells that the range is infinity\n",
    "####### 7.ab*c------it tells us that b can print zero times or more times \n",
    "####### 8.[]-------to print a specific element\n",
    "####### 9.ab+c------to print the b many or one time in a string\n",
    "####### 10.ab?c-----if b will be print only one time or no presence of b\n",
    "####### 11.a.c-----we can give any string and only one string in between a and c\n",
    "####### 12.^[6789][0-9]{9}$--------it gives the phone number range  it is the range b/w 1-9 first \n",
    "####### 13.^([0-9]|[a-z]|[A-Z])([0-9]|[a-z]|[A-Z]|[_]){6,14}([0-9]|[a-z]|[A-Z])@([a-z]|[A-Z]){1,10}[.][a-z]{2,4}$--------           itis the format to print the gmail \n",
    "#######.14 we need the symbols just to print the format we used to create the format\n",
    "####### 15.^.{a,b}$-------it can accept any string or character or number or special char in a given range"
   ]
  },
  {
   "cell_type": "markdown",
   "metadata": {},
   "source": [
    "#### Phone no validation"
   ]
  },
  {
   "cell_type": "code",
   "execution_count": 25,
   "metadata": {},
   "outputs": [
    {
     "name": "stdout",
     "output_type": "stream",
     "text": [
      "1\n",
      "1\n",
      "1\n"
     ]
    }
   ],
   "source": [
    "# ^[0][6-9][0-9]{9}$----10 digit no starting with zero\n",
    "# ^+91[6-9][0-9]{9}$-----10 digit no satrting with +91\n",
    "# ^[6-9][0-9]$\n",
    "import re\n",
    "def phoneno(no):\n",
    "    pattern=\"^[+][9][1][6-9][0-9]{9}$|^[6-9][0-9]{9}$|^[0][6-9][0-9]{9}$\"\n",
    "    if re.match(pattern,str(no)):\n",
    "        return 1\n",
    "    else:\n",
    "        return 0\n",
    "print(phoneno(\"9346688524\"))\n",
    "print(phoneno(\"+919948405312\"))\n",
    "print(phoneno(\"09396873974\"))\n"
   ]
  },
  {
   "cell_type": "markdown",
   "metadata": {},
   "source": [
    "#### Email validation"
   ]
  },
  {
   "cell_type": "code",
   "execution_count": 35,
   "metadata": {},
   "outputs": [
    {
     "name": "stdout",
     "output_type": "stream",
     "text": [
      "1\n"
     ]
    }
   ],
   "source": [
    "import re\n",
    "def emailval(va):\n",
    "    pattern=\"^([0-9]|[a-z]|[A-Z])([0-9]|[a-z]|[A-Z]|[_]){6,14}([0-9]|[a-z]|[A-Z])@([a-z]|[A-Z]){1,10}[.][a-z]{2,4}$\"\n",
    "    if re.match(pattern,str(va)):\n",
    "        return 1\n",
    "    else:\n",
    "        return 0\n",
    "print(emailval(\"luckynikhila467@gmail.com\"))\n"
   ]
  },
  {
   "cell_type": "code",
   "execution_count": 39,
   "metadata": {},
   "outputs": [
    {
     "name": "stdout",
     "output_type": "stream",
     "text": [
      "phone valid successfully\n",
      "email id verified successfully\n"
     ]
    },
    {
     "data": {
      "text/plain": [
       "{'nikki': ['9346688524,nikki467@gmail.com'],\n",
       " 'kgf': ['9396873974', 'njdfgjkfbbh@gmail.com']}"
      ]
     },
     "execution_count": 39,
     "metadata": {},
     "output_type": "execute_result"
    }
   ],
   "source": [
    "d={\"nikki\":[\"9346688524,nikki467@gmail.com\"]}\n",
    "def passenger(name,a):\n",
    "    if name not in d:\n",
    "        no=a[0]\n",
    "        va=a[1]\n",
    "        if phoneno(no)==1:\n",
    "            print(\"phone valid successfully\")\n",
    "            if emailval(va)==1:\n",
    "                print(\"email id verified successfully\")\n",
    "                d[name]=a\n",
    "        else:\n",
    "            print(\"enter a valid no and email id\")\n",
    "    else:\n",
    "        print(\"contact already exists\")\n",
    "passenger(\"kgf\",[\"9396873974\",\"njdfgjkfbbh@gmail.com\"])        \n",
    "d       \n",
    "        \n",
    "        \n",
    "        \n",
    "    "
   ]
  },
  {
   "cell_type": "code",
   "execution_count": null,
   "metadata": {},
   "outputs": [],
   "source": []
  },
  {
   "cell_type": "code",
   "execution_count": null,
   "metadata": {},
   "outputs": [],
   "source": []
  }
 ],
 "metadata": {
  "kernelspec": {
   "display_name": "Python 3",
   "language": "python",
   "name": "python3"
  },
  "language_info": {
   "codemirror_mode": {
    "name": "ipython",
    "version": 3
   },
   "file_extension": ".py",
   "mimetype": "text/x-python",
   "name": "python",
   "nbconvert_exporter": "python",
   "pygments_lexer": "ipython3",
   "version": "3.7.3"
  }
 },
 "nbformat": 4,
 "nbformat_minor": 2
}
