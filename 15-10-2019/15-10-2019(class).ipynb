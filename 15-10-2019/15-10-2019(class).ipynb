{
 "cells": [
  {
   "cell_type": "code",
   "execution_count": 1,
   "metadata": {},
   "outputs": [],
   "source": [
    "filepath=\"content.txt\"\n",
    "def createfile(filepath):\n",
    "    with open(filepath,'w') as f:\n",
    "        f.write(\"who\\n are\\n you\\n\")\n",
    "createfile(filepath)\n",
    "    "
   ]
  },
  {
   "cell_type": "code",
   "execution_count": 3,
   "metadata": {},
   "outputs": [
    {
     "name": "stdout",
     "output_type": "stream",
     "text": [
      "who\n",
      " are\n",
      " you\n",
      "\n"
     ]
    }
   ],
   "source": [
    "filepath=\"content.txt\"\n",
    "def readdata(filepath):\n",
    "    with open(filepath,'r') as f:\n",
    "        f1=f.read()\n",
    "        print(f1)\n",
    "readdata(filepath)        \n",
    "        "
   ]
  },
  {
   "cell_type": "code",
   "execution_count": null,
   "metadata": {},
   "outputs": [],
   "source": [
    "#generate a file to create 50 student marks"
   ]
  },
  {
   "cell_type": "code",
   "execution_count": 10,
   "metadata": {},
   "outputs": [],
   "source": [
    "import random as r\n",
    "filepath=\"student marks.txt\"\n",
    "def createstma(filepath,n):\n",
    "    with open(filepath,'w') as f:\n",
    "        for i in range(n):\n",
    "            f.write(str(r.randint(1,100))+'\\n')\n",
    "createstma(filepath,50)\n",
    "        \n",
    "        \n"
   ]
  },
  {
   "cell_type": "code",
   "execution_count": null,
   "metadata": {},
   "outputs": [],
   "source": [
    "# class avg percentage\n",
    "#pass percentage\n",
    "# failed percentage\n",
    "# highest marks\n",
    "# lowest marks"
   ]
  },
  {
   "cell_type": "code",
   "execution_count": 49,
   "metadata": {},
   "outputs": [
    {
     "name": "stdout",
     "output_type": "stream",
     "text": [
      "66.0\n",
      "50\n"
     ]
    }
   ],
   "source": [
    "# class avg percentage\n",
    "filepath=\"student marks.txt\"\n",
    "def classavg(filepath):\n",
    "    c=0\n",
    "    count=0\n",
    "    with open(filepath,'r') as f:\n",
    "        f1=f.read()\n",
    "        l=f1.split()\n",
    "        for i in l:\n",
    "            count=count+1\n",
    "            if int(i)>=35:\n",
    "                c=c+1\n",
    "        passed=((c/count)*100)\n",
    "        print(passed)\n",
    "        print(count)   \n",
    "            \n",
    "classavg(filepath)            \n",
    "                "
   ]
  },
  {
   "cell_type": "code",
   "execution_count": 54,
   "metadata": {},
   "outputs": [
    {
     "name": "stdout",
     "output_type": "stream",
     "text": [
      "34.0\n"
     ]
    }
   ],
   "source": [
    "filepath=\"student marks.txt\"\n",
    "def classavg(filepath):\n",
    "    passed_count=0\n",
    "    total_count=0\n",
    "    with open(filepath,'r') as f:\n",
    "        f1=f.read()\n",
    "        l=f1.split()\n",
    "        for i in l:\n",
    "            total_count+=1\n",
    "            if int(i)<=35:\n",
    "                passed_count+=1\n",
    "        failed=((passed_count/total_count)*100)\n",
    "        print(failed)\n",
    "classavg(filepath)           "
   ]
  },
  {
   "cell_type": "code",
   "execution_count": 57,
   "metadata": {},
   "outputs": [
    {
     "name": "stdout",
     "output_type": "stream",
     "text": [
      "90\n",
      "99\n",
      "93\n",
      "92\n",
      "91\n",
      "94\n",
      "93\n",
      "100\n",
      "93\n"
     ]
    }
   ],
   "source": [
    "filepath=\"student marks.txt\"\n",
    "def classavg(filepath):\n",
    "    with open(filepath,'r') as f:\n",
    "        f1=f.read()\n",
    "        l=f1.split()\n",
    "        for i in l:\n",
    "            if int(i)>=90:\n",
    "                print(int(i))\n",
    "classavg(filepath)                \n",
    "            \n",
    "    "
   ]
  },
  {
   "cell_type": "code",
   "execution_count": 58,
   "metadata": {},
   "outputs": [
    {
     "name": "stdout",
     "output_type": "stream",
     "text": [
      "14\n",
      "15\n",
      "4\n",
      "18\n",
      "13\n",
      "19\n",
      "13\n",
      "11\n"
     ]
    }
   ],
   "source": [
    "filepath=\"student marks.txt\"\n",
    "def classavg(filepath):\n",
    "    with open(filepath,'r') as f:\n",
    "        f1=f.read()\n",
    "        l=f1.split()\n",
    "        for i in l:\n",
    "            if int(i)<=20:\n",
    "                print(int(i))\n",
    "classavg(filepath)                \n",
    "            "
   ]
  },
  {
   "cell_type": "code",
   "execution_count": null,
   "metadata": {},
   "outputs": [],
   "source": [
    "# frequency of words"
   ]
  },
  {
   "cell_type": "code",
   "execution_count": 63,
   "metadata": {},
   "outputs": [
    {
     "name": "stdout",
     "output_type": "stream",
     "text": [
      "who 1\n",
      " are 1\n",
      " you are so 1\n",
      " beautiful 1\n",
      " hello 1\n",
      " you 2\n",
      " you 2\n",
      " 2\n",
      " 2\n"
     ]
    }
   ],
   "source": [
    "filepath=\"content.txt\"\n",
    "def frequencyofwords(filepath):\n",
    "    with open(filepath,'r') as f:\n",
    "        f1=f.read()\n",
    "        l=f1.split('\\n')\n",
    "        for i in l:\n",
    "            print(i,l.count(i))\n",
    "frequencyofwords(filepath)            \n",
    "            "
   ]
  },
  {
   "cell_type": "code",
   "execution_count": null,
   "metadata": {},
   "outputs": [],
   "source": [
    "# using sets"
   ]
  },
  {
   "cell_type": "code",
   "execution_count": 64,
   "metadata": {},
   "outputs": [
    {
     "name": "stdout",
     "output_type": "stream",
     "text": [
      " : 2\n",
      " are : 1\n",
      " you are so : 1\n",
      " you : 2\n",
      "who : 1\n",
      " beautiful : 1\n",
      " hello : 1\n"
     ]
    }
   ],
   "source": [
    "filepath=\"content.txt\"\n",
    "def frequencyofwords(filepath):\n",
    "    with open(filepath,'r') as f:\n",
    "        f1=f.read()\n",
    "        l=f1.split('\\n')\n",
    "        for i in set(l):\n",
    "            print(i,':',l.count(i))\n",
    "frequencyofwords(filepath)            \n",
    "            "
   ]
  },
  {
   "cell_type": "code",
   "execution_count": 65,
   "metadata": {},
   "outputs": [],
   "source": [
    "# using dictinaries"
   ]
  },
  {
   "cell_type": "code",
   "execution_count": 82,
   "metadata": {},
   "outputs": [
    {
     "name": "stdout",
     "output_type": "stream",
     "text": [
      "{'who': 1, ' are': 1, ' you are so': 1, ' beautiful': 1, ' hello': 1, ' you': 2, '': 2}\n"
     ]
    }
   ],
   "source": [
    "filepath=\"content.txt\"\n",
    "def frequencyofwords(filepath):\n",
    "    d={}\n",
    "    with open(filepath,'r') as f:\n",
    "        f1=f.read()\n",
    "        l=f1.split('\\n')\n",
    "        for i in l:\n",
    "            d[i]=l.count(i)\n",
    "        print(d)\n",
    "frequencyofwords(filepath)      "
   ]
  },
  {
   "cell_type": "code",
   "execution_count": 83,
   "metadata": {},
   "outputs": [
    {
     "name": "stdout",
     "output_type": "stream",
     "text": [
      "Help on method_descriptor:\n",
      "\n",
      "replace(self, old, new, count=-1, /)\n",
      "    Return a copy with all occurrences of substring old replaced by new.\n",
      "    \n",
      "      count\n",
      "        Maximum number of occurrences to replace.\n",
      "        -1 (the default value) means replace all occurrences.\n",
      "    \n",
      "    If the optional argument count is given, only the first count occurrences are\n",
      "    replaced.\n",
      "\n"
     ]
    }
   ],
   "source": [
    "help(str.replace)"
   ]
  },
  {
   "cell_type": "code",
   "execution_count": 88,
   "metadata": {},
   "outputs": [
    {
     "name": "stdout",
     "output_type": "stream",
     "text": [
      "who\n",
      " are\n",
      " madhu are so\n",
      " beautiful\n",
      " hello\n",
      " madhu\n",
      " madhu\n",
      "\n",
      "\n"
     ]
    }
   ],
   "source": [
    "# replace of data to a new data\n",
    "\n",
    "filepath=\"content.txt\"\n",
    "def findreplace(filepath):\n",
    "    with open(filepath,'r') as f:\n",
    "        f1=f.read()\n",
    "        s=f1.replace(\"you\",\"madhu\")\n",
    "    print(s)\n",
    "findreplace(filepath)    "
   ]
  },
  {
   "cell_type": "code",
   "execution_count": 85,
   "metadata": {},
   "outputs": [
    {
     "name": "stdout",
     "output_type": "stream",
     "text": [
      "hello madhu\n"
     ]
    }
   ],
   "source": [
    "x=\"hello app\"\n",
    "s=x.replace(\"app\",\"madhu\")\n",
    "print(s)"
   ]
  },
  {
   "cell_type": "code",
   "execution_count": null,
   "metadata": {},
   "outputs": [],
   "source": []
  }
 ],
 "metadata": {
  "kernelspec": {
   "display_name": "Python 3",
   "language": "python",
   "name": "python3"
  },
  "language_info": {
   "codemirror_mode": {
    "name": "ipython",
    "version": 3
   },
   "file_extension": ".py",
   "mimetype": "text/x-python",
   "name": "python",
   "nbconvert_exporter": "python",
   "pygments_lexer": "ipython3",
   "version": "3.7.3"
  }
 },
 "nbformat": 4,
 "nbformat_minor": 2
}
