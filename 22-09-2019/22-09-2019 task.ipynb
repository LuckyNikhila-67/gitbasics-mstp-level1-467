{
 "cells": [
  {
   "cell_type": "markdown",
   "metadata": {},
   "source": [
    "#.Write a Python program which accepts the user's first and last name and print them in reverse order with a space between them. "
   ]
  },
  {
   "cell_type": "code",
   "execution_count": 1,
   "metadata": {},
   "outputs": [
    {
     "name": "stdout",
     "output_type": "stream",
     "text": [
      "nikhila\n",
      "lakkireddy\n",
      "lakkireddy nikhila\n"
     ]
    }
   ],
   "source": [
    "a=input()\n",
    "b=input()\n",
    "print(b,a)"
   ]
  },
  {
   "cell_type": "markdown",
   "metadata": {},
   "source": [
    "#.Write a Python program to accept a filename from the user and print the extension of that. \n",
    "\n",
    "Sample filename : abc. java\n",
    "\n",
    "Output : java "
   ]
  },
  {
   "cell_type": "code",
   "execution_count": 5,
   "metadata": {},
   "outputs": [
    {
     "name": "stdout",
     "output_type": "stream",
     "text": [
      "abc.java\n",
      "['abc', 'java']\n",
      "java\n"
     ]
    }
   ],
   "source": [
    "a=input()\n",
    "b=a.split(\".\")\n",
    "print(b)\n",
    "c=b[1]\n",
    "print(c)"
   ]
  },
  {
   "cell_type": "markdown",
   "metadata": {},
   "source": [
    "#Write a Python program that accepts an integer (n) and computes the value of n+nn+nnn. \n",
    "\n",
    "Sample value of n is 5\n",
    "\n",
    "Expected Result : 615 "
   ]
  },
  {
   "cell_type": "code",
   "execution_count": 1,
   "metadata": {},
   "outputs": [
    {
     "name": "stdout",
     "output_type": "stream",
     "text": [
      "5\n",
      "155\n"
     ]
    }
   ],
   "source": [
    "n=int(input())\n",
    "print(n+n*n+n*n*n)"
   ]
  },
  {
   "cell_type": "markdown",
   "metadata": {},
   "source": [
    "#.Write a Python program to get a single string from two given strings, separated by a space and swap the first two characters of each string. \n",
    "\n",
    "Sample String : 'abc', 'xyz'\n",
    "\n",
    "Expected Result : 'xyc abz' "
   ]
  },
  {
   "cell_type": "code",
   "execution_count": 4,
   "metadata": {},
   "outputs": [
    {
     "name": "stdout",
     "output_type": "stream",
     "text": [
      "likitha\n",
      "nikhila\n",
      "nikitha likhila\n"
     ]
    }
   ],
   "source": [
    "a=input()\n",
    "b=input()\n",
    "c=(b[0:2:])+(a[2::])\n",
    "d=(a[0:2:])+(b[2::])\n",
    "print(c+\" \"+d)\n"
   ]
  },
  {
   "cell_type": "markdown",
   "metadata": {},
   "source": [
    "#5.Write a Python script that takes input from the user and displays that input back in upper and lower cases "
   ]
  },
  {
   "cell_type": "code",
   "execution_count": 2,
   "metadata": {},
   "outputs": [
    {
     "name": "stdout",
     "output_type": "stream",
     "text": [
      "NIKHILA lakkireddy\n",
      "nikhila LAKKIREDDY\n"
     ]
    }
   ],
   "source": [
    "a=input()\n",
    "print(a.swapcase())"
   ]
  },
  {
   "cell_type": "markdown",
   "metadata": {},
   "source": [
    "#6.Write a Python program to lowercase first n characters in a string \n",
    "\n"
   ]
  },
  {
   "cell_type": "code",
   "execution_count": 12,
   "metadata": {},
   "outputs": [
    {
     "name": "stdout",
     "output_type": "stream",
     "text": [
      "JHHGVJJHjhjvgjhhdfg\n",
      "6\n",
      "jhhgvjJHjhjvgjhhdfg\n"
     ]
    }
   ],
   "source": [
    "a=input()\n",
    "b=int(input())\n",
    "print(a[:b].lower()+a[b:])\n"
   ]
  },
  {
   "cell_type": "code",
   "execution_count": null,
   "metadata": {},
   "outputs": [],
   "source": []
  }
 ],
 "metadata": {
  "kernelspec": {
   "display_name": "Python 3",
   "language": "python",
   "name": "python3"
  },
  "language_info": {
   "codemirror_mode": {
    "name": "ipython",
    "version": 3
   },
   "file_extension": ".py",
   "mimetype": "text/x-python",
   "name": "python",
   "nbconvert_exporter": "python",
   "pygments_lexer": "ipython3",
   "version": "3.7.3"
  }
 },
 "nbformat": 4,
 "nbformat_minor": 2
}
