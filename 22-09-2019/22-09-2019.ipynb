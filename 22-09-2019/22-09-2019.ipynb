{
 "cells": [
  {
   "cell_type": "markdown",
   "metadata": {},
   "source": [
    "# Assignment operators"
   ]
  },
  {
   "cell_type": "code",
   "execution_count": 16,
   "metadata": {},
   "outputs": [
    {
     "name": "stdout",
     "output_type": "stream",
     "text": [
      "1\n"
     ]
    }
   ],
   "source": [
    "n=30\n",
    "n//=30\n",
    "print(n)"
   ]
  },
  {
   "cell_type": "markdown",
   "metadata": {},
   "source": [
    "# Comparision operators"
   ]
  },
  {
   "cell_type": "code",
   "execution_count": 3,
   "metadata": {},
   "outputs": [
    {
     "name": "stdout",
     "output_type": "stream",
     "text": [
      "True\n",
      "False\n",
      "True\n",
      "False\n"
     ]
    }
   ],
   "source": [
    "a=5\n",
    "b=20\n",
    "print(a<b)\n",
    "print(a>b)\n",
    "print(a!=b)\n",
    "print(a==b)"
   ]
  },
  {
   "cell_type": "markdown",
   "metadata": {},
   "source": [
    "# Logical operators"
   ]
  },
  {
   "cell_type": "code",
   "execution_count": 4,
   "metadata": {},
   "outputs": [
    {
     "name": "stdout",
     "output_type": "stream",
     "text": [
      "6\n",
      "3\n",
      "False\n",
      "False\n"
     ]
    }
   ],
   "source": [
    "x=3\n",
    "y=6\n",
    "print(x and y)\n",
    "print(x or y)\n",
    "print(not x)\n",
    "print(not y)"
   ]
  },
  {
   "cell_type": "markdown",
   "metadata": {},
   "source": [
    "# Bitwise operators"
   ]
  },
  {
   "cell_type": "code",
   "execution_count": 6,
   "metadata": {},
   "outputs": [
    {
     "name": "stdout",
     "output_type": "stream",
     "text": [
      "47\n",
      "0\n",
      "47\n",
      "0\n",
      "412316860416\n"
     ]
    }
   ],
   "source": [
    "c=12\n",
    "d=35\n",
    "print(c|d)\n",
    "print(c&d)\n",
    "print(c^d)\n",
    "print(c>>d)\n",
    "print(c<<d)"
   ]
  },
  {
   "cell_type": "markdown",
   "metadata": {},
   "source": [
    "# Identity operators"
   ]
  },
  {
   "cell_type": "code",
   "execution_count": 10,
   "metadata": {},
   "outputs": [
    {
     "data": {
      "text/plain": [
       "True"
      ]
     },
     "execution_count": 10,
     "metadata": {},
     "output_type": "execute_result"
    }
   ],
   "source": [
    "a=8\n",
    "a is 8"
   ]
  },
  {
   "cell_type": "code",
   "execution_count": 11,
   "metadata": {},
   "outputs": [
    {
     "data": {
      "text/plain": [
       "False"
      ]
     },
     "execution_count": 11,
     "metadata": {},
     "output_type": "execute_result"
    }
   ],
   "source": [
    "a is not 8"
   ]
  },
  {
   "cell_type": "markdown",
   "metadata": {},
   "source": [
    "# Membership operators"
   ]
  },
  {
   "cell_type": "code",
   "execution_count": 15,
   "metadata": {},
   "outputs": [
    {
     "name": "stdout",
     "output_type": "stream",
     "text": [
      "True\n",
      "False\n",
      "True\n"
     ]
    }
   ],
   "source": [
    "x=[10,20,30,40,50]\n",
    "print(10 in x)\n",
    "print(22 in x)\n",
    "print(22 not in x)"
   ]
  },
  {
   "cell_type": "markdown",
   "metadata": {},
   "source": [
    "# Input/Output"
   ]
  },
  {
   "cell_type": "code",
   "execution_count": 17,
   "metadata": {},
   "outputs": [
    {
     "name": "stdout",
     "output_type": "stream",
     "text": [
      "nikki\n"
     ]
    }
   ],
   "source": [
    "print(\"nikki\")"
   ]
  },
  {
   "cell_type": "code",
   "execution_count": 18,
   "metadata": {},
   "outputs": [
    {
     "name": "stdout",
     "output_type": "stream",
     "text": [
      "[10, 20, 30, 40, 50]\n"
     ]
    }
   ],
   "source": [
    "print(x)"
   ]
  },
  {
   "cell_type": "code",
   "execution_count": 19,
   "metadata": {},
   "outputs": [
    {
     "name": "stdout",
     "output_type": "stream",
     "text": [
      "enter a number\n",
      "20\n"
     ]
    }
   ],
   "source": [
    "print(\"enter a number\")\n",
    "x=input()"
   ]
  },
  {
   "cell_type": "code",
   "execution_count": 22,
   "metadata": {},
   "outputs": [
    {
     "name": "stdout",
     "output_type": "stream",
     "text": [
      "enter a number 22\n"
     ]
    }
   ],
   "source": [
    "x=input(\"enter a number \")"
   ]
  },
  {
   "cell_type": "code",
   "execution_count": 23,
   "metadata": {},
   "outputs": [
    {
     "name": "stdout",
     "output_type": "stream",
     "text": [
      "enter a number2\n",
      "enter a number3\n",
      "enter a number4\n"
     ]
    }
   ],
   "source": [
    "x=input(\"enter a number\")\n",
    "y=input(\"enter a number\")\n",
    "z=input(\"enter a number\")"
   ]
  },
  {
   "cell_type": "code",
   "execution_count": 28,
   "metadata": {},
   "outputs": [
    {
     "name": "stdout",
     "output_type": "stream",
     "text": [
      "2 3 4\n",
      "2,3,4\n",
      "2:3:4\n",
      "2;3;4\n"
     ]
    }
   ],
   "source": [
    "print(x,y,z)\n",
    "print(x,y,z,sep=\",\")\n",
    "print(x,y,z,sep=\":\")\n",
    "print(x,y,z,sep=\";\")"
   ]
  },
  {
   "cell_type": "code",
   "execution_count": 30,
   "metadata": {},
   "outputs": [
    {
     "name": "stdout",
     "output_type": "stream",
     "text": [
      "2\t3\t4\n"
     ]
    }
   ],
   "source": [
    "print(x,end=\"\\t\")\n",
    "print(y,end=\"\\t\")\n",
    "print(z)"
   ]
  },
  {
   "cell_type": "code",
   "execution_count": 34,
   "metadata": {},
   "outputs": [
    {
     "name": "stdout",
     "output_type": "stream",
     "text": [
      "30\n",
      "60\n",
      "addition 90\n"
     ]
    }
   ],
   "source": [
    "x=int(input())\n",
    "y=int(input())\n",
    "print(\"addition\",x+y)"
   ]
  },
  {
   "cell_type": "code",
   "execution_count": 36,
   "metadata": {},
   "outputs": [
    {
     "name": "stdout",
     "output_type": "stream",
     "text": [
      "enter a num3\n",
      "enter a num6\n",
      "9\n"
     ]
    }
   ],
   "source": [
    "x=input(\"enter a num\")\n",
    "y=input(\"enter a num\")\n",
    "print(int(x)+int(y))"
   ]
  },
  {
   "cell_type": "code",
   "execution_count": 37,
   "metadata": {},
   "outputs": [
    {
     "name": "stdout",
     "output_type": "stream",
     "text": [
      "enter a num3\n",
      "enter a number6\n",
      "9.0\n"
     ]
    }
   ],
   "source": [
    "x=float(input(\"enter a num\"))\n",
    "y=float(input(\"enter a number\"))\n",
    "print(x+y)"
   ]
  },
  {
   "cell_type": "markdown",
   "metadata": {},
   "source": [
    "# Strings"
   ]
  },
  {
   "cell_type": "code",
   "execution_count": 41,
   "metadata": {},
   "outputs": [
    {
     "name": "stdout",
     "output_type": "stream",
     "text": [
      "hello\n",
      "world\n",
      "hello world\n",
      "hello world\n",
      "i don't\n",
      "i don't\n",
      "first\n",
      "second\n",
      "third\n",
      "first\n",
      "second\tthird\n"
     ]
    }
   ],
   "source": [
    "print(\"hello\\nworld\")\n",
    "print(\"hello world\")\n",
    "print('hello world')\n",
    "print(\"i don't\")\n",
    "print('i don\\'t')\n",
    "print('''first\n",
    "second\n",
    "third''')\n",
    "print(\"first\\nsecond\\tthird\")"
   ]
  },
  {
   "cell_type": "code",
   "execution_count": 44,
   "metadata": {},
   "outputs": [
    {
     "name": "stdout",
     "output_type": "stream",
     "text": [
      "sum of 20 and 30 is 50\n"
     ]
    }
   ],
   "source": [
    "x=20\n",
    "y=30\n",
    "print(\"sum of\",x,\"and\",y,\"is\",x+y)"
   ]
  },
  {
   "cell_type": "code",
   "execution_count": 45,
   "metadata": {},
   "outputs": [
    {
     "name": "stdout",
     "output_type": "stream",
     "text": [
      "sum of 20 and 30 is 50\n"
     ]
    }
   ],
   "source": [
    "x=20\n",
    "y=30\n",
    "print(\"sum of {0} and {1} is {2}\".format(x,y,x+y))"
   ]
  },
  {
   "cell_type": "markdown",
   "metadata": {},
   "source": [
    "# String slicing"
   ]
  },
  {
   "cell_type": "code",
   "execution_count": 46,
   "metadata": {},
   "outputs": [
    {
     "name": "stdout",
     "output_type": "stream",
     "text": [
      "g,e,e\n"
     ]
    }
   ],
   "source": [
    "x=\"geetha govindam\"\n",
    "print(x[0],x[1],x[2],sep=\",\")"
   ]
  },
  {
   "cell_type": "code",
   "execution_count": 47,
   "metadata": {},
   "outputs": [
    {
     "name": "stdout",
     "output_type": "stream",
     "text": [
      "gee\n"
     ]
    }
   ],
   "source": [
    "x=\"geetha govindam\"\n",
    "print(x[0],end=\"\")\n",
    "print(x[1],end=\"\")\n",
    "print(x[2])"
   ]
  },
  {
   "cell_type": "code",
   "execution_count": 60,
   "metadata": {},
   "outputs": [
    {
     "name": "stdout",
     "output_type": "stream",
     "text": [
      "gee\n",
      "gee\n",
      "gee\n",
      "geetha govindam\n",
      "geetha govindam\n",
      "geetha govindam\n",
      "geetha govindam\n",
      "15\n"
     ]
    }
   ],
   "source": [
    "#x=[start:end:step]start=inclusive,end=exclusive\n",
    "x[0:3]\n",
    "print(x[0:3])\n",
    "print(x[:3])\n",
    "print(x[0:3:1])\n",
    "print(x[0:])\n",
    "print(x[0::1])\n",
    "print(x[:len(x):])\n",
    "print(x[::])\n",
    "print(len(x))"
   ]
  },
  {
   "cell_type": "code",
   "execution_count": 65,
   "metadata": {},
   "outputs": [
    {
     "name": "stdout",
     "output_type": "stream",
     "text": [
      "madnivog ahteeg\n",
      "madnivog ahteeg\n",
      "madnivog ahteeg\n"
     ]
    }
   ],
   "source": [
    "x=\"geetha govindam\"\n",
    "print(x[-1::-1])         #to reverse the string\n",
    "print(x[len(x)::-1])\n",
    "print(x[::-1])"
   ]
  },
  {
   "cell_type": "code",
   "execution_count": 99,
   "metadata": {},
   "outputs": [
    {
     "name": "stdout",
     "output_type": "stream",
     "text": [
      "ksagl\n",
      "ksagl\n",
      "senwv\n"
     ]
    }
   ],
   "source": [
    "x=\"kvswangels\"\n",
    "print(x[::2])              #to print altenative characters of astring\n",
    "print(x[0::2])\n",
    "print(x[::-2])             #to print the alternative characters in reverse order "
   ]
  },
  {
   "cell_type": "code",
   "execution_count": 112,
   "metadata": {},
   "outputs": [
    {
     "name": "stdout",
     "output_type": "stream",
     "text": [
      "els\n",
      "els\n",
      "na\n"
     ]
    }
   ],
   "source": [
    "print(x[-3::])\n",
    "print(x[len(x)-3::])\n",
    "print(x[(len(x)//2):(len(x)//2)-2:-1])"
   ]
  },
  {
   "cell_type": "code",
   "execution_count": 113,
   "metadata": {},
   "outputs": [
    {
     "name": "stdout",
     "output_type": "stream",
     "text": [
      "INTEREST\n"
     ]
    }
   ],
   "source": [
    "x=\"interest\"\n",
    "print(x.upper())     # changing lower to upper"
   ]
  },
  {
   "cell_type": "code",
   "execution_count": 114,
   "metadata": {},
   "outputs": [
    {
     "name": "stdout",
     "output_type": "stream",
     "text": [
      "how are you\n"
     ]
    }
   ],
   "source": [
    "y=\"HOW ARE YOU\"\n",
    "print(y.lower())      # changing upper case to lower case"
   ]
  },
  {
   "cell_type": "code",
   "execution_count": 115,
   "metadata": {},
   "outputs": [
    {
     "name": "stdout",
     "output_type": "stream",
     "text": [
      "HGjghJG\n"
     ]
    }
   ],
   "source": [
    "x=\"hgJGHjg\"\n",
    "print(x.swapcase())     # changing the letters in lower case to upper case and upper case to lower case"
   ]
  },
  {
   "cell_type": "code",
   "execution_count": 117,
   "metadata": {},
   "outputs": [
    {
     "name": "stdout",
     "output_type": "stream",
     "text": [
      "5\n",
      "7\n"
     ]
    }
   ],
   "source": [
    "x=\"hgfkhjdgghikgihfyhhguuh\"\n",
    "print(x.count(\"g\"))\n",
    "print(x.count(\"h\"))"
   ]
  },
  {
   "cell_type": "code",
   "execution_count": null,
   "metadata": {},
   "outputs": [],
   "source": []
  }
 ],
 "metadata": {
  "kernelspec": {
   "display_name": "Python 3",
   "language": "python",
   "name": "python3"
  },
  "language_info": {
   "codemirror_mode": {
    "name": "ipython",
    "version": 3
   },
   "file_extension": ".py",
   "mimetype": "text/x-python",
   "name": "python",
   "nbconvert_exporter": "python",
   "pygments_lexer": "ipython3",
   "version": "3.7.3"
  }
 },
 "nbformat": 4,
 "nbformat_minor": 2
}
