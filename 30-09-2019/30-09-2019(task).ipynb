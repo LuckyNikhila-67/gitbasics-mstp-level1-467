{
 "cells": [
  {
   "cell_type": "markdown",
   "metadata": {},
   "source": [
    "#### 1.Write a Python program to generate and print a list and a dictionary of square of numbers between 1 and 15 (both included) "
   ]
  },
  {
   "cell_type": "code",
   "execution_count": 48,
   "metadata": {},
   "outputs": [
    {
     "name": "stdout",
     "output_type": "stream",
     "text": [
      "[1, 4, 9, 16, 25, 36, 49, 64, 81, 100, 121, 144, 169, 196, 225]\n",
      "{1: 1, 2: 4, 3: 9, 4: 16, 5: 25, 6: 36, 7: 49, 8: 64, 9: 81, 10: 100, 11: 121, 12: 144, 13: 169, 14: 196, 15: 225}\n"
     ]
    }
   ],
   "source": [
    "A=[]\n",
    "a={}\n",
    "n=15\n",
    "for i in range(1,n+1):\n",
    "    a[i]=i**2\n",
    "    A.append(i**2)\n",
    "print(A)\n",
    "print(a)    "
   ]
  },
  {
   "cell_type": "markdown",
   "metadata": {},
   "source": [
    "#### 2.Take 10 integer inputs from user and store them in a list and print them on screen."
   ]
  },
  {
   "cell_type": "code",
   "execution_count": 34,
   "metadata": {},
   "outputs": [
    {
     "name": "stdout",
     "output_type": "stream",
     "text": [
      "10\n",
      "[1, 2, 3, 4, 5, 6, 7, 8, 9, 10]\n"
     ]
    }
   ],
   "source": [
    "a=[]\n",
    "n=int(input())\n",
    "for i in range(1,n+1):\n",
    "    a.append(i)\n",
    "print(a)    \n",
    "\n",
    "    "
   ]
  },
  {
   "cell_type": "markdown",
   "metadata": {},
   "source": [
    "#### 3.l=[1,5,7,3,2,4,5,9],print list of all even numbers from the given list "
   ]
  },
  {
   "cell_type": "code",
   "execution_count": 67,
   "metadata": {},
   "outputs": [
    {
     "name": "stdout",
     "output_type": "stream",
     "text": [
      "[2, 4]\n"
     ]
    }
   ],
   "source": [
    "l=[1,5,7,3,2,4,5,9]\n",
    "n=[]\n",
    "for i in range(len(l)):\n",
    "    if l[i]%2==0:\n",
    "        n.append(l[i])\n",
    "print(n)\n",
    "    "
   ]
  },
  {
   "cell_type": "markdown",
   "metadata": {},
   "source": [
    "##### 4.Take 10 integer inputs from user and print the following:\n",
    "####### number of positive numbers\n",
    "####### number of negative numbers\n",
    "####### number of odd numbers\n",
    "####### number of even numbers\n",
    "####### number of 0s.using dictionaries\n"
   ]
  },
  {
   "cell_type": "code",
   "execution_count": 3,
   "metadata": {},
   "outputs": [
    {
     "name": "stdout",
     "output_type": "stream",
     "text": [
      "10\n",
      "-3\n",
      "2\n",
      "4\n",
      "5\n",
      "6\n",
      "-6\n",
      "-7\n",
      "0\n",
      "0\n",
      "{'p': 5, 'n': 3, 'e': 5, 'o': 3, 'z': 2}\n"
     ]
    }
   ],
   "source": [
    "l=[]\n",
    "for i in range(1,11):\n",
    "    n=int(input())\n",
    "    l.append(n)\n",
    "d={\"p\":0,\"n\":0,\"e\":0,\"o\":0,\"z\":0}\n",
    "for j in l:\n",
    "    if j>0:\n",
    "        d[\"p\"]+=1\n",
    "        if j%2==0:\n",
    "            d[\"e\"]+=1\n",
    "        else:\n",
    "            d[\"o\"]+=1\n",
    "    elif j<0:\n",
    "        d[\"n\"]+=1\n",
    "        if j%2==0:\n",
    "            d[\"e\"]+=1\n",
    "        else:\n",
    "            d[\"o\"]+=1\n",
    "    elif j==0:\n",
    "        d[\"z\"]+=1\n",
    "print(d)       "
   ]
  },
  {
   "cell_type": "markdown",
   "metadata": {},
   "source": [
    "##### 5.Ask user to give name and marks of 10 different students. Store them in dictionary.\n"
   ]
  },
  {
   "cell_type": "code",
   "execution_count": 13,
   "metadata": {},
   "outputs": [
    {
     "name": "stdout",
     "output_type": "stream",
     "text": [
      "98\n",
      "a\n",
      "56\n",
      "b\n",
      "67\n",
      "c\n",
      "78\n",
      "d\n",
      "76\n",
      "e\n",
      "87\n",
      "f\n",
      "98\n",
      "g\n",
      "90\n",
      "h\n",
      "92\n",
      "i\n",
      "88\n",
      "j\n",
      "{98: 'g', 56: 'b', 67: 'c', 78: 'd', 76: 'e', 87: 'f', 90: 'h', 92: 'i', 88: 'j'}\n"
     ]
    }
   ],
   "source": [
    "st={}\n",
    "n=10\n",
    "for i in range(1,n+1):\n",
    "    c=int(input())\n",
    "    b=input()\n",
    "    st[c]=b\n",
    "print(st)"
   ]
  },
  {
   "cell_type": "markdown",
   "metadata": {},
   "source": [
    "##### 6.Sort the dictionary created in previous example according to marks"
   ]
  },
  {
   "cell_type": "code",
   "execution_count": 16,
   "metadata": {},
   "outputs": [
    {
     "name": "stdout",
     "output_type": "stream",
     "text": [
      "78\n",
      "jg\n",
      "98\n",
      "jh\n",
      "98\n",
      "jh\n",
      "46\n",
      "jh\n",
      "65\n",
      "jg\n",
      "756\n",
      "jgjh\n",
      "86\n",
      "hgfg\n",
      "75\n",
      "hgfftd\n",
      "756\n",
      "hfhgf\n",
      "45\n",
      "hffrrtfd\n",
      "{78: 'jg', 98: 'jh', 46: 'jh', 65: 'jg', 756: 'hfhgf', 86: 'hgfg', 75: 'hgfftd', 45: 'hffrrtfd'}\n",
      "[45, 46, 65, 75, 78, 86, 98, 756]\n",
      "45 : hffrrtfd\n",
      "46 : jh\n",
      "65 : jg\n",
      "75 : hgfftd\n",
      "78 : jg\n",
      "86 : hgfg\n",
      "98 : jh\n",
      "756 : hfhgf\n"
     ]
    }
   ],
   "source": [
    "st={}\n",
    "n=10\n",
    "for i in range(1,n+1):\n",
    "    c=int(input())\n",
    "    b=input()\n",
    "    st[c]=b\n",
    "print(st)\n",
    "a=sorted(st.keys())\n",
    "print(a)\n",
    "for i in a:\n",
    "    print(i,\":\",st[i])"
   ]
  },
  {
   "cell_type": "markdown",
   "metadata": {},
   "source": [
    "\n",
    "#### 7..Use dictionary to store antonyms of words. "
   ]
  },
  {
   "cell_type": "code",
   "execution_count": 27,
   "metadata": {},
   "outputs": [
    {
     "name": "stdout",
     "output_type": "stream",
     "text": [
      "['right', 'top', 'up', 'push']\n",
      "top\n",
      "bottom\n"
     ]
    }
   ],
   "source": [
    "a={\"right\":\"left\",\"top\":\"bottom\",\"up\":\"down\",\"push\":\"pop\"}\n",
    "print(list(a.keys()))\n",
    "n=input()\n",
    "print(a.get(n))\n",
    "#### (or)  print(a[n])  "
   ]
  },
  {
   "cell_type": "markdown",
   "metadata": {},
   "source": [
    "##### 8.Count the number of occurrence of each letter in word \"MISSISSIPPI\". Store count of every letter with the letter in a dictionary."
   ]
  },
  {
   "cell_type": "code",
   "execution_count": 4,
   "metadata": {},
   "outputs": [
    {
     "name": "stdout",
     "output_type": "stream",
     "text": [
      "{'M': 1, 'I': 4, 'S': 4, 'P': 2}\n"
     ]
    }
   ],
   "source": [
    "a=\"MISSISSIPPI\"\n",
    "n={}\n",
    "for i in a:\n",
    "    n[i]=a.count(i)\n",
    "print(n)    "
   ]
  },
  {
   "cell_type": "markdown",
   "metadata": {},
   "source": [
    "### 9.From the previous question, sort according to the number of letters."
   ]
  },
  {
   "cell_type": "code",
   "execution_count": 19,
   "metadata": {},
   "outputs": [
    {
     "name": "stdout",
     "output_type": "stream",
     "text": [
      "{'I': 4, 'M': 1, 'P': 2, 'S': 4}\n"
     ]
    }
   ],
   "source": [
    "a=\"MISSISSIPPI\"\n",
    "s=set(a)\n",
    "s=sorted(s)\n",
    "m={}\n",
    "for i in s:\n",
    "    m[i]=a.count(i)\n",
    "print(m)"
   ]
  }
 ],
 "metadata": {
  "kernelspec": {
   "display_name": "Python 3",
   "language": "python",
   "name": "python3"
  },
  "language_info": {
   "codemirror_mode": {
    "name": "ipython",
    "version": 3
   },
   "file_extension": ".py",
   "mimetype": "text/x-python",
   "name": "python",
   "nbconvert_exporter": "python",
   "pygments_lexer": "ipython3",
   "version": "3.7.3"
  }
 },
 "nbformat": 4,
 "nbformat_minor": 2
}
