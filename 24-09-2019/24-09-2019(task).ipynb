{
 "cells": [
  {
   "cell_type": "markdown",
   "metadata": {},
   "source": [
    "### 1.Check if the number exist in a given range (inputs: number(n), range(lower number and upper number)"
   ]
  },
  {
   "cell_type": "code",
   "execution_count": 1,
   "metadata": {},
   "outputs": [
    {
     "name": "stdout",
     "output_type": "stream",
     "text": [
      "10\n",
      "20\n",
      "34\n",
      "not present\n"
     ]
    }
   ],
   "source": [
    "def number(a,b,c):\n",
    "        if(a<c<b):\n",
    "            print(\"present\")\n",
    "        else:\n",
    "            print(\"not present\")\n",
    "a=int(input())\n",
    "b=int(input())\n",
    "c=int(input())\n",
    "number(a,b,c)"
   ]
  },
  {
   "cell_type": "markdown",
   "metadata": {},
   "source": [
    "### 2.Check the number of digits in a given number"
   ]
  },
  {
   "cell_type": "code",
   "execution_count": 20,
   "metadata": {},
   "outputs": [
    {
     "name": "stdout",
     "output_type": "stream",
     "text": [
      "56546376\n",
      "8\n"
     ]
    }
   ],
   "source": [
    "def checking(n):\n",
    "        a=len(n)\n",
    "        print(a)\n",
    "n=(input())\n",
    "checking(n)"
   ]
  },
  {
   "cell_type": "markdown",
   "metadata": {},
   "source": [
    "### 3.Check if the given number is a factor of 1000 "
   ]
  },
  {
   "cell_type": "code",
   "execution_count": 9,
   "metadata": {},
   "outputs": [
    {
     "name": "stdout",
     "output_type": "stream",
     "text": [
      "5\n",
      "factor\n"
     ]
    }
   ],
   "source": [
    "def rangeof(n):\n",
    "    if(1000%n==0):\n",
    "        print(\"factor\")\n",
    "    else:\n",
    "        print(\"not factor\")\n",
    "n=int(input())\n",
    "rangeof(n)"
   ]
  },
  {
   "cell_type": "markdown",
   "metadata": {},
   "source": [
    "### 4. Calculate the squareroot of given number  "
   ]
  },
  {
   "cell_type": "code",
   "execution_count": 18,
   "metadata": {},
   "outputs": [
    {
     "name": "stdout",
     "output_type": "stream",
     "text": [
      "100\n",
      "10.0\n"
     ]
    }
   ],
   "source": [
    "def squareroot(n):\n",
    "    a=(n**(1/2))\n",
    "    print(a)\n",
    "n=int(input())\n",
    "squareroot(n)"
   ]
  },
  {
   "cell_type": "markdown",
   "metadata": {},
   "source": [
    "### 5.python program to take values of length and breadth(width) of a rectangle from user and  check if it is square or not"
   ]
  },
  {
   "cell_type": "code",
   "execution_count": 19,
   "metadata": {},
   "outputs": [
    {
     "name": "stdout",
     "output_type": "stream",
     "text": [
      "4\n",
      "6\n",
      "rectangle\n"
     ]
    }
   ],
   "source": [
    "def square(l,b):\n",
    "    if(l==b):\n",
    "        print(\"square\")\n",
    "    else:\n",
    "        print(\"rectangle\")\n",
    "l=int(input())\n",
    "b=int(input())\n",
    "square(l,b)"
   ]
  },
  {
   "cell_type": "markdown",
   "metadata": {},
   "source": [
    "#### 6.A school has following rules for grading system:\n",
    "######## a. Below 25 - F\n",
    "######## b. 25 to 45 - E\n",
    "######## c. 45 to 50 - D\n",
    "######## d. 50 to 60 - C\n",
    "######## e. 60 to 80 - B\n",
    "######## f. Above 80 - A\n",
    "########### ask user to enter marks and print the corresponding grade"
   ]
  },
  {
   "cell_type": "code",
   "execution_count": 1,
   "metadata": {},
   "outputs": [
    {
     "name": "stdout",
     "output_type": "stream",
     "text": [
      "33\n",
      "E\n"
     ]
    }
   ],
   "source": [
    "def grading(n):\n",
    "    if(n<25):\n",
    "        print(\"F\")\n",
    "    elif(n>=25 and n<=45):\n",
    "        print(\"E\")\n",
    "    elif(n>=45 and n<=50):\n",
    "        print(\"D\")\n",
    "    elif(n>=50 and n<=60):\n",
    "        print(\"C\")\n",
    "    elif(n>=60 and n<=80):\n",
    "        print(\"B\")\n",
    "    elif(n>=80):\n",
    "        print(\"A\")\n",
    "n=int(input())\n",
    "grading(n)"
   ]
  },
  {
   "cell_type": "markdown",
   "metadata": {},
   "source": [
    "##### 7.Take input of age of 3 people by user and determine oldest and youngest among them."
   ]
  },
  {
   "cell_type": "code",
   "execution_count": 3,
   "metadata": {},
   "outputs": [
    {
     "name": "stdout",
     "output_type": "stream",
     "text": [
      "33\n",
      "55\n",
      "77\n",
      "old 77\n",
      "young 33\n"
     ]
    }
   ],
   "source": [
    "def age(a,b,c):\n",
    "    if(a>b and a>c):\n",
    "        old=a\n",
    "    elif(b>a and b>c):\n",
    "         old=b\n",
    "    else:\n",
    "         old=c\n",
    "    if(a<b and a<c):\n",
    "         young=a\n",
    "    elif(b<c and b<a):\n",
    "         young=b\n",
    "    else:\n",
    "        young=c\n",
    "    print(\"old\",old)\n",
    "    print(\"young\",young)\n",
    "a=int(input())\n",
    "b=int(input())\n",
    "c=int(input())\n",
    "age(a,b,c)           \n",
    "            "
   ]
  },
  {
   "cell_type": "markdown",
   "metadata": {},
   "source": [
    "#### 8..A student will not be allowed to sit in exam if his/her attendance is less than 75%.\n",
    "###### A.Take following input from user Number of classes held,Number of classes attended.\n",
    "###### B.And print percentage of class attended Is student is allowed to sit in exam or not. \n"
   ]
  },
  {
   "cell_type": "code",
   "execution_count": 18,
   "metadata": {},
   "outputs": [
    {
     "name": "stdout",
     "output_type": "stream",
     "text": [
      "300\n",
      "260\n",
      "86.66666666666667\n",
      "allowed to exam\n"
     ]
    }
   ],
   "source": [
    "def student(ch,ca):\n",
    "    n=(((ca/ch)*100))\n",
    "    print(n)\n",
    "    if(n>=75):\n",
    "        print(\"allowed to exam\")\n",
    "    else:\n",
    "        print(\"not allowed to xam\")\n",
    "ch=int(input())\n",
    "ca=int(input())\n",
    "student(ch,ca)"
   ]
  },
  {
   "cell_type": "code",
   "execution_count": null,
   "metadata": {},
   "outputs": [],
   "source": []
  }
 ],
 "metadata": {
  "kernelspec": {
   "display_name": "Python 3",
   "language": "python",
   "name": "python3"
  },
  "language_info": {
   "codemirror_mode": {
    "name": "ipython",
    "version": 3
   },
   "file_extension": ".py",
   "mimetype": "text/x-python",
   "name": "python",
   "nbconvert_exporter": "python",
   "pygments_lexer": "ipython3",
   "version": "3.7.3"
  }
 },
 "nbformat": 4,
 "nbformat_minor": 2
}
